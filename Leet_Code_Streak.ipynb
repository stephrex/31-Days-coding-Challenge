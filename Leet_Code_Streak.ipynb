{
 "cells": [
  {
   "cell_type": "markdown",
   "metadata": {},
   "source": [
    "# **31 Days Leetcode Challenge**"
   ]
  },
  {
   "cell_type": "markdown",
   "metadata": {},
   "source": [
    "## Day 1\n",
    "\n",
    "> Problem\n",
    "\n",
    "You are given two integer arrays <code>nums1</code> and <code>nums2</code>, sorted in non-decreasing order, and two integers <code>m</code> and <code>n</code>, representing the number of elements in <code>nums1</code> and <code>nums2</code> respectively.\n",
    "\n",
    "Merge <code>nums1</code> and <code>nums2</code> into a single array sorted in non-decreasing order.\n",
    "\n",
    "The final sorted array should not be returned by the function, but instead be stored inside the array nums1. To accommodate this, <code>nums1</code> has a length of <code>m + n</code>, where the first <code>m</code> elements denote the elements that should be merged, and the last <code>n</code> elements are set to 0 and should be ignored. <code>nums2</code> has a length of <code>n</code>."
   ]
  },
  {
   "cell_type": "code",
   "execution_count": null,
   "metadata": {},
   "outputs": [],
   "source": [
    "## My Solution\n",
    "def merge(nums1, nums2):\n",
    "    m = len(nums1)\n",
    "    n = len(nums2)\n",
    "\n",
    "    if m >= 1:\n",
    "        if max(nums1) == 0:\n",
    "            index_zeros = []\n",
    "            for index, i in enumerate(nums1):\n",
    "                if i == 0:\n",
    "                    index_zeros.append(index)\n",
    "            \n",
    "            for i in sorted(index_zeros, reverse=True):\n",
    "                del nums1[i]\n",
    "    \n",
    "    if n >= 1:\n",
    "        if max(nums2) == 0:\n",
    "            index_zeros = []\n",
    "            for index, i in enumerate(nums2):\n",
    "                if i == 0:\n",
    "                    index_zeros.append(index)\n",
    "            \n",
    "            for i in sorted(index_zeros, reverse=True):\n",
    "                del nums2[i]\n",
    "        \n",
    "    for index, i in enumerate(nums1):\n",
    "        if i == max(nums1):\n",
    "            num1_max_index = index\n",
    "\n",
    "    index_to_remove = []\n",
    "    for index, i in enumerate(nums1):\n",
    "        if index > num1_max_index:\n",
    "            index_to_remove.append(index)\n",
    "\n",
    "    index_to_remove = sorted(index_to_remove, reverse=True)\n",
    "    for i in index_to_remove:\n",
    "        del nums1[i]\n",
    "\n",
    "    for index, i in enumerate(nums2):\n",
    "        if i == max(nums2):\n",
    "            num1_max_index = index\n",
    "\n",
    "    index_to_remove = []\n",
    "    for index, i in enumerate(nums2):\n",
    "        if index > num1_max_index:\n",
    "            index_to_remove.append(index)\n",
    "\n",
    "    index_to_remove = sorted(index_to_remove, reverse=True)\n",
    "    for i in index_to_remove:\n",
    "        del nums2[i]\n",
    "\n",
    "    for i in nums2:\n",
    "        nums1.append(i)\n",
    "    \n",
    "    nums1.sort()"
   ]
  },
  {
   "cell_type": "code",
   "execution_count": 12,
   "metadata": {},
   "outputs": [
    {
     "name": "stdout",
     "output_type": "stream",
     "text": [
      "[1, 2, 2, 3, 5, 6]\n"
     ]
    }
   ],
   "source": [
    "## Correct Solution\n",
    "def merge(nums1, m, nums2, n):\n",
    "    # Start from the end of nums1 and nums2\n",
    "    i = m - 1\n",
    "    j = n - 1\n",
    "    k = m + n - 1\n",
    "\n",
    "    # Merge in reverse order\n",
    "    while i >= 0 and j >= 0:\n",
    "        if nums1[i] > nums2[j]:\n",
    "            nums1[k] = nums1[i]\n",
    "            i -= 1\n",
    "        else:\n",
    "            nums1[k] = nums2[j]\n",
    "            j -= 1\n",
    "        k -= 1\n",
    "\n",
    "    # If there are remaining elements in nums2\n",
    "    while j >= 0:\n",
    "        nums1[k] = nums2[j]\n",
    "        j -= 1\n",
    "        k -= 1\n",
    "\n",
    "# Example usage\n",
    "nums1 = [1, 2, 3, 0, 0, 0]\n",
    "m = 3\n",
    "nums2 = [2, 5, 6]\n",
    "n = 3\n",
    "merge(nums1, m, nums2, n)\n",
    "print(nums1) "
   ]
  },
  {
   "cell_type": "markdown",
   "metadata": {},
   "source": [
    "### Study for Day 1\n",
    "\n",
    "### What is Big O Notation?\n",
    "\n",
    "**Big O Notation** is a mathematical notation used to describe the upper bound of an algorithm's runtime or space requirements in terms of the input size. It characterizes functions according to their growth rates: how the runtime or space requirements grow as the input size grows.\n",
    "\n",
    "### Why is Big O Notation Important?\n",
    "\n",
    "Big O notation helps you:\n",
    "1. **Evaluate Performance:** Understand the efficiency of an algorithm, especially for large inputs.\n",
    "2. **Compare Algorithms:** Choose the most efficient algorithm for a problem.\n",
    "3. **Optimize Code:** Write code that scales better with increasing input size.\n",
    "\n",
    "### Basic Concept of Big O Notation\n",
    "\n",
    "When we talk about the Big O notation, we're interested in how the runtime or space requirement grows relative to the input size \\( n \\). Here are some common Big O notations, from fastest (most efficient) to slowest (least efficient):\n",
    "\n",
    "1. **O(1) - Constant Time:** The runtime does not change with the input size.\n",
    "   ```python\n",
    "   def constant_time_example(arr):\n",
    "       return arr[0]  # Always takes the same time\n",
    "   ```\n",
    "\n",
    "2. **O(log n) - Logarithmic Time:** The runtime grows logarithmically with the input size.\n",
    "   ```python\n",
    "   def logarithmic_time_example(arr, target):\n",
    "       low, high = 0, len(arr) - 1\n",
    "       while low <= high:\n",
    "           mid = (low + high) // 2\n",
    "           if arr[mid] == target:\n",
    "               return mid\n",
    "           elif arr[mid] < target:\n",
    "               low = mid + 1\n",
    "           else:\n",
    "               high = mid - 1\n",
    "       return -1  # Binary search\n",
    "   ```\n",
    "\n",
    "3. **O(n) - Linear Time:** The runtime grows linearly with the input size.\n",
    "   ```python\n",
    "   def linear_time_example(arr):\n",
    "       total = 0\n",
    "       for num in arr:\n",
    "           total += num\n",
    "       return total  # Sum of elements\n",
    "   ```\n",
    "\n",
    "4. **O(n log n) - Linearithmic Time:** The runtime grows at a rate proportional to \\( n \\log n \\).\n",
    "   ```python\n",
    "   def linearithmic_time_example(arr):\n",
    "       if len(arr) <= 1:\n",
    "           return arr\n",
    "       mid = len(arr) // 2\n",
    "       left = linearithmic_time_example(arr[:mid])\n",
    "       right = linearithmic_time_example(arr[mid:])\n",
    "       return merge(left, right)  # Merge sort\n",
    "   ```\n",
    "\n",
    "5. **O(n^2) - Quadratic Time:** The runtime grows quadratically with the input size.\n",
    "   ```python\n",
    "   def quadratic_time_example(arr):\n",
    "       for i in range(len(arr)):\n",
    "           for j in range(i + 1, len(arr)):\n",
    "               if arr[i] > arr[j]:\n",
    "                   arr[i], arr[j] = arr[j], arr[i]  # Bubble sort\n",
    "   ```\n",
    "\n",
    "6. **O(2^n) - Exponential Time:** The runtime doubles with each additional element.\n",
    "   ```python\n",
    "   def exponential_time_example(n):\n",
    "       if n <= 1:\n",
    "           return n\n",
    "       return exponential_time_example(n - 1) + exponential_time_example(n - 2)  # Fibonacci\n",
    "   ```\n",
    "\n",
    "### How to Analyze an Algorithm's Complexity\n",
    "\n",
    "1. **Identify the Basic Operation:** Determine the most costly operation in terms of time or space.\n",
    "2. **Count the Operations:** See how many times this operation is executed as the input size grows.\n",
    "3. **Simplify the Expression:** Remove lower-order terms and constants to simplify the Big O expression.\n",
    "\n",
    "### Using Big O to Write Better Code\n",
    "\n",
    "1. **Understand the Problem Constraints:** Knowing the input size helps choose an appropriate algorithm.\n",
    "2. **Optimize Loops and Recursive Calls:** Avoid nested loops or deep recursion if possible.\n",
    "3. **Use Efficient Data Structures:** Choose the right data structures (e.g., hash tables for O(1) lookups).\n",
    "4. **Balance Time and Space Trade-offs:** Sometimes a faster algorithm uses more space, and vice versa.\n",
    "\n",
    "### Examples of Using Big O Notation in Practice\n",
    "\n",
    "- **Sorting:** QuickSort and MergeSort are \\( O(n \\log n) \\), while Bubble Sort is \\( O(n^2) \\).\n",
    "- **Searching:** Binary Search is \\( O(\\log n) \\), while Linear Search is \\( O(n) \\).\n",
    "- **Data Structures:** Hash maps provide \\( O(1) \\) average time complexity for insertions, deletions, and lookups.\n",
    "\n",
    "### Summary\n",
    "\n",
    "Big O notation is crucial for understanding and improving the efficiency of algorithms. By analyzing the complexity, you can ensure your solutions are scalable and performant. As you practice more LeetCode problems, keep analyzing the time and space complexity of your solutions to develop an intuition for writing efficient code."
   ]
  },
  {
   "cell_type": "markdown",
   "metadata": {},
   "source": [
    "## Day 2\n",
    "\n",
    "> Problem\n",
    "\n",
    "Given an integer array <code>nums</code> and an integer <code>val</code>, remove all occurrences of <code>val</code> in <code>nums</code> <code>in-place</code>. The order of the elements may be changed. Then return the number of elements in <code>nums</code> which are not equal to <code>val</code>.\n",
    "\n",
    "Consider the number of elements in nums which are not equal to <code>val</code> be <code>k</code>, to get accepted, you need to do the following things:\n",
    "\n",
    "Change the array <code>nums</code> such that the first <code>k</code> elements of <code>nums</code> contain the elements which are not equal to <code>val</code>. The remaining elements of <code>nums</code> are not important as well as the size of <code>nums</code>.\n",
    "Return <code>k</code>."
   ]
  },
  {
   "cell_type": "code",
   "execution_count": 56,
   "metadata": {},
   "outputs": [
    {
     "name": "stdout",
     "output_type": "stream",
     "text": [
      "[1, 2, 3, 5, 5, 6, 8, 9, 10, 11, 12]\n",
      "CPU times: total: 0 ns\n",
      "Wall time: 362 μs\n"
     ]
    },
    {
     "data": {
      "text/plain": [
       "11"
      ]
     },
     "execution_count": 56,
     "metadata": {},
     "output_type": "execute_result"
    }
   ],
   "source": [
    "\n",
    "# My Solution\n",
    "nums = [1, 2, 3, 4, 5, 4, 4, 5, 6, 8, 9, 10, 11, 12, 4]\n",
    "val = 4\n",
    "\n",
    "def remove(nums, val):\n",
    "    indexes_not_val = []\n",
    "    for index, i in enumerate(nums):\n",
    "        if i == val:\n",
    "            indexes_not_val.append(index)\n",
    "\n",
    "    for i in sorted(indexes_not_val, reverse=True):\n",
    "        del nums[i]\n",
    "    \n",
    "    print(nums)\n",
    "    k = len(nums)\n",
    "    return k\n",
    "            \n",
    "\n",
    "%time remove(nums, val)"
   ]
  },
  {
   "cell_type": "code",
   "execution_count": 70,
   "metadata": {},
   "outputs": [
    {
     "name": "stdout",
     "output_type": "stream",
     "text": [
      "CPU times: total: 0 ns\n",
      "Wall time: 0 ns\n"
     ]
    },
    {
     "data": {
      "text/plain": [
       "12"
      ]
     },
     "execution_count": 70,
     "metadata": {},
     "output_type": "execute_result"
    }
   ],
   "source": [
    "# Better Efficent Solution time complexity: O(n) space complexity: O(1)\n",
    "nums = [1, 2, 3, 4, 5, 4, 4, 5, 6, 8, 9, 10, 11, 12, 4, 3, 4, 4, 4]\n",
    "val = 4\n",
    "\n",
    "def remove(nums, val):\n",
    "    k = 0\n",
    "    for i in range(0, len(nums)):\n",
    "        if nums[i] != val:\n",
    "            nums[k] = nums[i]\n",
    "            k += 1\n",
    "            \n",
    "    return k\n",
    "\n",
    "%time remove(nums, val)"
   ]
  },
  {
   "cell_type": "markdown",
   "metadata": {},
   "source": [
    "## Day 3\n",
    "\n",
    "Given an integer array <code>nums</code> sorted in non-decreasing order, remove the duplicates <code>in-place</code> such that each unique element appears only once. The relative order of the elements should be kept the same. Then return the number of unique elements in nums.\n",
    "\n",
    "Consider the number of unique elements of <code>nums</code> to be <code>k</code>, to get accepted, you need to do the following things:\n",
    "\n",
    "Change the array <code>nums</code> such that the first <code>k</code> elements of <code>nums</code> contain the unique elements in the order they were present in <code>nums</code> initially. The remaining elements of <code>nums</code> are not important as well as the size of <code>nums</code>.\n",
    "Return <code>k</code>."
   ]
  },
  {
   "cell_type": "code",
   "execution_count": 7,
   "metadata": {},
   "outputs": [
    {
     "name": "stdout",
     "output_type": "stream",
     "text": [
      "CPU times: total: 0 ns\n",
      "Wall time: 0 ns\n",
      "8\n"
     ]
    }
   ],
   "source": [
    "## My Solution: O(n**2)\n",
    "%time\n",
    "nums = [1, 2, 3, 3, 4, 5, 6, 6, 7, 8, 8]\n",
    "\n",
    "k = 0\n",
    "for i in range(0, len(nums)):\n",
    "    if nums[i] not in nums[:k]:\n",
    "        nums[k] = nums[i]\n",
    "        k += 1\n",
    "\n",
    "print(k)"
   ]
  },
  {
   "cell_type": "code",
   "execution_count": 8,
   "metadata": {},
   "outputs": [
    {
     "name": "stdout",
     "output_type": "stream",
     "text": [
      "CPU times: total: 0 ns\n",
      "Wall time: 0 ns\n",
      "8\n"
     ]
    }
   ],
   "source": [
    "# Faster Solution: O(n)\n",
    "%time\n",
    "nums = [1, 2, 3, 3, 4, 5, 6, 6, 7, 8, 8]\n",
    "\n",
    "k = 1\n",
    "for i in range(1, len(nums)):\n",
    "    if nums[i] != nums[k - 1]:\n",
    "        nums[k] = nums[i]\n",
    "        k += 1\n",
    "\n",
    "print(k)"
   ]
  },
  {
   "cell_type": "markdown",
   "metadata": {},
   "source": [
    "## Day 4\n",
    "\n",
    "Given an integer array <code>nums</code> sorted in non-decreasing order, remove some duplicates <code>in-place</code> such that each unique element appears at most twice. The relative order of the elements should be kept the same.\n",
    "\n",
    "Since it is impossible to change the length of the array in some languages, you must instead have the result be placed in the first part of the array <code>nums</code>. More formally, if there are <code>k</code> elements after removing the duplicates, then the first <code>k</code> elements of nums should hold the final result. It does not matter what you leave beyond the first <code>k</code> elements.\n",
    "\n",
    "Return <code>k</code> after placing the final result in the first <code>k</code> slots of <code>nums</code>.\n",
    "\n",
    "Do not allocate extra space for another <code>array</code>. You must do this by modifying the input array <code>in-place</code> with O(1) extra memory."
   ]
  },
  {
   "cell_type": "code",
   "execution_count": 51,
   "metadata": {},
   "outputs": [
    {
     "name": "stdout",
     "output_type": "stream",
     "text": [
      "Output: [-1, 0, 0, 2, 4, 4, 8, 8, 10, 10, 40, 10, 10, 10, 40], \n",
      "Lenght: 11\n"
     ]
    }
   ],
   "source": [
    "# E.g Input = [1, 1, 2, 2, 2, 3]\n",
    "# Output = [1, 1, 2, 2, 3]\n",
    "\n",
    "nums = [-1, 0, 0, 0, 2, 4, 4, 4, 8, 8, 8, 10, 10, 10, 40]\n",
    "\n",
    "k = 2\n",
    "for i in range(2, len(nums)):\n",
    "    if nums[i] != nums[k-2]:\n",
    "        nums[k] = nums[i]\n",
    "        k += 1\n",
    "\n",
    "print(f'''Output: {nums}, \n",
    "Lenght: {k}''')"
   ]
  },
  {
   "cell_type": "code",
   "execution_count": null,
   "metadata": {},
   "outputs": [],
   "source": []
  }
 ],
 "metadata": {
  "kernelspec": {
   "display_name": "Python 3",
   "language": "python",
   "name": "python3"
  },
  "language_info": {
   "codemirror_mode": {
    "name": "ipython",
    "version": 3
   },
   "file_extension": ".py",
   "mimetype": "text/x-python",
   "name": "python",
   "nbconvert_exporter": "python",
   "pygments_lexer": "ipython3",
   "version": "3.11.4"
  }
 },
 "nbformat": 4,
 "nbformat_minor": 2
}
